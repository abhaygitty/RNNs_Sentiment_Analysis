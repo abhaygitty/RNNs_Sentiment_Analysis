{
 "cells": [
  {
   "cell_type": "code",
   "execution_count": 54,
   "metadata": {},
   "outputs": [],
   "source": [
    "from __future__ import absolute_import\n",
    "from __future__ import division\n",
    "from __future__ import print_function"
   ]
  },
  {
   "cell_type": "code",
   "execution_count": 55,
   "metadata": {},
   "outputs": [],
   "source": [
    "import tarfile"
   ]
  },
  {
   "cell_type": "code",
   "execution_count": 56,
   "metadata": {},
   "outputs": [],
   "source": [
    "import numpy as np\n",
    "import nltk\n",
    "import regex as re\n",
    "import os\n",
    "import collections\n",
    "import math\n",
    "import os\n",
    "import random\n",
    "import zipfile\n",
    "\n",
    "#file download utilities\n",
    "from six.moves import urllib\n",
    "from six.moves import xrange\n",
    "\n",
    "import numpy as np\n",
    "import tensorflow as tf\n"
   ]
  },
  {
   "cell_type": "code",
   "execution_count": 57,
   "metadata": {},
   "outputs": [
    {
     "name": "stdout",
     "output_type": "stream",
     "text": [
      "1.14.1\n",
      "3.2.5\n"
     ]
    }
   ],
   "source": [
    "print(np.__version__)\n",
    "print(nltk.__version__)"
   ]
  },
  {
   "cell_type": "code",
   "execution_count": 58,
   "metadata": {},
   "outputs": [],
   "source": [
    "DOWNLOADED_FILENAME = 'ImdbReviews.tar.gz'\n",
    "\n",
    "def download_file(url_path):\n",
    "    if not os.path.exists(DOWNLOADED_FILENAME):\n",
    "        filename, _ = urllib.request.urlretrieve(url_path, DOWNLOADED_FILENAME)\n",
    "    \n",
    "    print('Found and verified file fom this path: ', url_path)\n",
    "    print('Downloaded file: ', DOWNLOADED_FILENAME)"
   ]
  },
  {
   "cell_type": "code",
   "execution_count": 85,
   "metadata": {},
   "outputs": [],
   "source": [
    "TOKEN_REGEX = re.compile(\"[^A-Za-z0-9]+\")\n",
    "\n",
    "def get_reviews(dirname, positive=True):\n",
    "    label = 1 if positive else 0\n",
    "    \n",
    "    reviews = []\n",
    "    \n",
    "    for filename in os.listdir(dirname):\n",
    "        if filename.endswith(\".txt\"):\n",
    "#             print(filename)\n",
    "            with open(dirname + filename, 'r+', encoding='utf8') as f:\n",
    "                review = f.read()\n",
    "                review = review.lower().replace(\"<br />\", \" \")\n",
    "                review = re.sub(TOKEN_REGEX, '', review)\n",
    "                \n",
    "                # Return a tuple of the review tex and the label\n",
    "                # whether it is a positive or a negative review\n",
    "                #1 - positive review\n",
    "                #0 - negative review\n",
    "                reviews.append((review,label))\n",
    "    print(len(reviews))\n",
    "    return reviews\n",
    "\n",
    "\n",
    "    \n",
    "        \n",
    "    "
   ]
  },
  {
   "cell_type": "code",
   "execution_count": 62,
   "metadata": {},
   "outputs": [],
   "source": [
    "def extract_reviews():\n",
    "    \n",
    "    #If the file has not already been extracted\n",
    "    if not os.path.exists('aclImdb'):\n",
    "        with tarfile.open(DOWNLOADED_FILENAME)  as tar:\n",
    "            tar.extractall()\n",
    "            tar.close()\n",
    "    \n",
    "    positive_reviews = get_reviews(\"aclImdb/train/pos/\", positive=True)\n",
    "#     print(positive_reviews)\n",
    "    negative_reviews = get_reviews(\"aclImdb/train/neg/\", positive=False)\n",
    "    \n",
    "    return positive_reviews, negative_reviews\n",
    "    "
   ]
  },
  {
   "cell_type": "code",
   "execution_count": 63,
   "metadata": {},
   "outputs": [
    {
     "name": "stdout",
     "output_type": "stream",
     "text": [
      "Found and verified file fom this path:  http://ai.stanford.edu/~amaas/data/sentiment/aclImdb_v1.tar.gz\n",
      "Downloaded file:  ImdbReviews.tar.gz\n"
     ]
    }
   ],
   "source": [
    "URL_PATH = 'http://ai.stanford.edu/~amaas/data/sentiment/aclImdb_v1.tar.gz'\n",
    "download_file(URL_PATH)"
   ]
  },
  {
   "cell_type": "code",
   "execution_count": 86,
   "metadata": {},
   "outputs": [
    {
     "name": "stdout",
     "output_type": "stream",
     "text": [
      "5457\n",
      "12500\n"
     ]
    }
   ],
   "source": [
    "positive_reviews, negative_reviews = extract_reviews()"
   ]
  },
  {
   "cell_type": "code",
   "execution_count": 87,
   "metadata": {},
   "outputs": [
    {
     "data": {
      "text/plain": [
       "[('bromwellhighisacartooncomedyitranatthesametimeassomeotherprogramsaboutschoollifesuchasteachersmy35yearsintheteachingprofessionleadmetobelievethatbromwellhighssatireismuchclosertorealitythanisteachersthescrambletosurvivefinanciallytheinsightfulstudentswhocanseerightthroughtheirpatheticteacherspompthepettinessofthewholesituationallremindmeoftheschoolsiknewandtheirstudentswhenisawtheepisodeinwhichastudentrepeatedlytriedtoburndowntheschooliimmediatelyrecalledathighaclassiclineinspectorimheretosackoneofyourteachersstudentwelcometobromwellhighiexpectthatmanyadultsofmyagethinkthatbromwellhighisfarfetchedwhatapitythatitisnt',\n",
       "  1),\n",
       " ('ilikedthefilmsomeoftheactionsceneswereveryinterestingtenseandwelldoneiespeciallylikedtheopeningscenewhichhadasemitruckinitaverytenseactionscenethatseemedwelldonesomeofthetransitionalsceneswerefilmedininterestingwayssuchastimelapsephotographyunusualcolorsorinterestinganglesalsothefilmisfunnyisseveralpartsialsolikedhowtheevilguywasportrayedtooidgivethefilman8outof10',\n",
       "  1)]"
      ]
     },
     "execution_count": 87,
     "metadata": {},
     "output_type": "execute_result"
    }
   ],
   "source": [
    "positive_reviews[:2]"
   ]
  },
  {
   "cell_type": "code",
   "execution_count": 88,
   "metadata": {},
   "outputs": [
    {
     "data": {
      "text/plain": [
       "5457"
      ]
     },
     "execution_count": 88,
     "metadata": {},
     "output_type": "execute_result"
    }
   ],
   "source": [
    "len(positive_reviews)"
   ]
  },
  {
   "cell_type": "code",
   "execution_count": 89,
   "metadata": {},
   "outputs": [
    {
     "data": {
      "text/plain": [
       "12500"
      ]
     },
     "execution_count": 89,
     "metadata": {},
     "output_type": "execute_result"
    }
   ],
   "source": [
    "len(negative_reviews)"
   ]
  },
  {
   "cell_type": "code",
   "execution_count": 90,
   "metadata": {},
   "outputs": [],
   "source": [
    "TRAIN_DATA = 5000\n",
    "TOTAL_DATA = 6000\n",
    "\n",
    "train_reviews = positive_reviews[:TRAIN_DATA] + negative_reviews[:TRAIN_DATA]\n",
    "\n",
    "test_positive_reviews = positive_reviews[TRAIN_DATA:TOTAL_DATA]\n",
    "test_negative_reviews = negative_reviews[TRAIN_DATA:TOTAL_DATA]\n"
   ]
  },
  {
   "cell_type": "code",
   "execution_count": 94,
   "metadata": {},
   "outputs": [
    {
     "data": {
      "text/plain": [
       "10000"
      ]
     },
     "execution_count": 94,
     "metadata": {},
     "output_type": "execute_result"
    }
   ],
   "source": [
    "len(train_reviews)"
   ]
  },
  {
   "cell_type": "code",
   "execution_count": 91,
   "metadata": {},
   "outputs": [],
   "source": [
    "def get_vocabulary(train_reviews):\n",
    "    words_set = set()\n",
    "    \n",
    "    for review in train_reviews:\n",
    "        words_set.update(review[0].split())\n",
    "    \n",
    "    return list(words_set)\n",
    "\n"
   ]
  },
  {
   "cell_type": "code",
   "execution_count": 92,
   "metadata": {},
   "outputs": [],
   "source": [
    "vocabulary = get_vocabulary(train_reviews)"
   ]
  },
  {
   "cell_type": "code",
   "execution_count": 93,
   "metadata": {},
   "outputs": [
    {
     "data": {
      "text/plain": [
       "9979"
      ]
     },
     "execution_count": 93,
     "metadata": {},
     "output_type": "execute_result"
    }
   ],
   "source": [
    "len(vocabulary)"
   ]
  },
  {
   "cell_type": "code",
   "execution_count": 72,
   "metadata": {},
   "outputs": [
    {
     "data": {
      "text/plain": [
       "['easilyoneofthetenbestmoviesofthe20thcenturyincoldbloodisbrilliantinthesimplicityandrealismofitsstorytellingandabsolutelyrivetingrobertblakewalksawaywiththefilmthestoryseemstobepresentedalmostentirelyfromperrysviewpointdespitedickbeingtheleaderandplannerofthepairtheviewerwillinvariableperceivedickasbeingmoreunstableimmatureandgenerallyfeellikeperrywouldnothavebeenpulledintothisnightmarebutfordickandhisneedtobesomebodyandpulloffabigscorebasedonatruestorywithparticularattentiontoaccuracyincoldblooddepictsthestorybehindthebrutalandsenselessmurderofaruralkansasfamilyonecoldwindynightbecausedickhasboughtintoanageoldruralmythaboutprosperousfarmershavingasafefullofcashintheirhomeasprosecutoracharacterthatisntgivenanameinthescriptplayedbywillgeersoastutelypointsouttheirlivesareboughtforonly10aheaddirectorrichardbrookswiselychoosesnottosharewithusthegruesomedetailsofthemurdersuntiltheendofthefilmpriortothisweonlyknowithashappenedandwatchthelivesofdickandperryslowlyunravelastheyattempttoescapenotonlybeingapprehendedbylawenforcementbutalsoperrysowneverescalatingsenseofimpendingdoomherepeatedlymakesremarksnooneevergetsawaywithathinglikethatandicanthelpthinkingweleftsomethingbehindthatbelongstousdickisneithermaturenormoralenoughtofeelanycompellingsenseofguiltovertheircrimeonlyirritationatperrysindeedaftertheyarecaughtitisdickwhobreaksfirstandsuddenlyfaintswhenfinallyconfrontedwithirrefutableproofthatplacesthetwomenatthesceneofthecrimeifeltsomewhatsorryforperryfromtheverybeginningofthefilmandmoresoaseventsprogressedbutionlyloatheddickthegeniusofthefilmistheengagingmannerinwhichthestoryisplayedwedonotforamomentthinkwearewatchingactorsportraycharactersbutthatwearewatchingtheactualparticipantsandeventsastheyoccurredthestoryisunrelentingtaunttheruntimeslightlyinexcessoftwohoursfeelsmorelikejustafewminutesforthoseofyouwhoareinterestedinsuchthingsinoticedacoupleofthegoofslistedhereontheimdbpageforincoldbloodareincorrectorexaggeratedsuchasthereversedprocessshotatthebeginningofthefilmasdickandperryaredrivingacrossthebridgeintokansastobeginwiththisisntevenaprocessshotthecameraisactuallypositionedinthebackseatandtheimageyouseebeyondthewindshieldofthecarisrealalargecargotrucklocatedtotheleftfrontofdickspontiaccreatestheopticalillusionthattheyaregoingbackwardbecauseitistravelingatagreaterrateofspeedbutcloserexaminationwillrevealthattheyareindeedgoingforwardanditisanactualshotfilmedfromamovingvehicleasipreviouslystatedthisisoneofthetenbestworksof20thcenturycinemanotrecommendedfortheveryyoungduetosomecourselanguageandimpliedandinferredviolencenoactualinyourfacegoreasamodernfilmwouldresorttobutathoroughlyexcellentfilm',\n",
       " 'whenasmallglobofspaceagesillyputtylandsonearthitsoonbeginsconsumingearthlingsandputtingonweighttheonlypartofthissenselessdrivelthatienjoyedwasallthecoolclassiccarsthisdoghadsomanyholesitcouldbeslicedandsoldforswisscheesethisthingactuallymade20millionbucksandmcqueenssalarywas3kallwerevastlyoverpaidthemonsterlookedalotlikealargebeanbagandtheteenslookedasthoughtheycouldhavechildrenapproachingtheirteenageyearsandthoseblastsfromtheshotgunsoundedlikeapelletriflewithasoundsuppressortheendingwaspitifullytriteobviouslytheproducerswereleavingthedooropenforasequelandthereweremanythumbsdown',\n",
       " 'isawthisfilmatamsterdamsinternationaldocumentaryfilmfestivalandwasprivilegedtomeetboththedirectorsandtobiasschneebaumallofwhomarelivelyandoutspokennewyorkersthefilmstitleinamsterdamwaskeeptheriveronyourrightmakingthesensationalaspectofcannibalismsomewhatlessprominentequallyimportantwasthelovingandgayrelationshiptobiasschneebaumhadwithmembersofthegroupshestudiedasananthropologisthisreunionatnearly80yearsofageandinevitableleavetakingwereverymovingicanonlyhighlyrecommendthisfilmtoanyonelookingforamovingstorythatisanythingbutpedestrian',\n",
       " 'didyouknowthatanthonykiedissingerfromtheredhotchilipeppersfatherisinthismovieblackiedammitisanthonysfatherinoticedthisafterreadingscartissueanthonysautobiographyandsawapictureofhisfatherithoughtwellthatguykindalookslikethatguyfromthatmovieisawintheeightiesthenireadmoreanditsaidhisfatherwasanactorthathadafewsmallrolesaftercheckingthissiteandcomparingwithasearchonthenetirealizeditreallyishisfatherinthemovieitsfunnybecausenowhereinthebookdoesitmentionhimbeinginthismovieperhapshissonwasashamedofhisfathersactingjobinthisflickbutheneednotbeithinkhisfatherblackiedidagreatjobintheshow',\n",
       " 'igivethisagenerousfouroutoftenstarsordotsormarkersorsomethingtherewereagrandtotaloftworeallyreallyfunnyscenesinthismovieallthesceneswithamypandtinafeyandgregkinneargregkinnearmovedalongagreeablyenoughotherwisetheusualtraffickinginstereotypesblazingspeedrudelypushedalongbyastupidsoundtrackandsoundtrackisgenerousanywaythetworeallyreallyfunnyscenesinvolvedamypshesjustreallyhilariousinananimalkindofwayshesamixtureofthatapemanskitthattheydoonsnlandlucilleballihopetheyamypandtinafeyjustflatoutadmittedtheydidthisforthemoneybecauseifbydoingititgavebirthtothesarahpalinparodiestheniguesswecansayyeahitwasworthittoputtheblackguybackintotheservantmanrolewhosreallytheretohelpyoubemorehumanblah4outta10likeisaidisgenerousbutnomoregirlsokohialmostforgotthemomfromtwoandahalfmenisinthismovieandsheshadsomekindofplasticsurgerysothathermouthnowlookslikethemouthofa30yearoldsoeverysceneshesinimliketryingtorearrangeherfaceorputittogetherinmymindorjustanswerthequestionnowaitwaithasshehadplasticsurgerybecauseasavieweryoureallydontwanthertohavehadplasticsurgery']"
      ]
     },
     "execution_count": 72,
     "metadata": {},
     "output_type": "execute_result"
    }
   ],
   "source": [
    "vocabulary[:5]"
   ]
  },
  {
   "cell_type": "code",
   "execution_count": 73,
   "metadata": {},
   "outputs": [],
   "source": [
    "#outputs the data the way our ML model expects it to be\n",
    "def extract_features(review_text):\n",
    "    \n",
    "    #Split the review into words and create a set of words\n",
    "    review_words = set(review_text.split())\n",
    "    \n",
    "    features = {}#dictionary of (word, boolean)\n",
    "    for word in vocabulary:\n",
    "        features[word] = (word in review_words)\n",
    "        #very similar to the one-hot notation\n",
    "        \n",
    "    return features"
   ]
  },
  {
   "cell_type": "code",
   "execution_count": 74,
   "metadata": {},
   "outputs": [],
   "source": [
    "train_features = nltk.classify.apply_features(extract_features, train_reviews)"
   ]
  },
  {
   "cell_type": "code",
   "execution_count": 75,
   "metadata": {},
   "outputs": [],
   "source": [
    "trained_classifier = nltk.NaiveBayesClassifier.train(train_features)"
   ]
  },
  {
   "cell_type": "code",
   "execution_count": 76,
   "metadata": {},
   "outputs": [],
   "source": [
    "#the above line of code will give us a trained Machine Learning Model"
   ]
  },
  {
   "cell_type": "code",
   "execution_count": 77,
   "metadata": {},
   "outputs": [],
   "source": [
    "def sentiment_calculator(review_text):\n",
    "    features = extract_features(review_text)\n",
    "    return trained_classifier.classify(features)"
   ]
  },
  {
   "cell_type": "code",
   "execution_count": 78,
   "metadata": {},
   "outputs": [
    {
     "data": {
      "text/plain": [
       "1"
      ]
     },
     "execution_count": 78,
     "metadata": {},
     "output_type": "execute_result"
    }
   ],
   "source": [
    "sentiment_calculator(\"What an amazing moveie!\")"
   ]
  },
  {
   "cell_type": "code",
   "execution_count": 79,
   "metadata": {},
   "outputs": [
    {
     "data": {
      "text/plain": [
       "1"
      ]
     },
     "execution_count": 79,
     "metadata": {},
     "output_type": "execute_result"
    }
   ],
   "source": [
    "sentiment_calculator(\"Was a great movie until I realised it was not\")"
   ]
  },
  {
   "cell_type": "code",
   "execution_count": 80,
   "metadata": {},
   "outputs": [
    {
     "data": {
      "text/plain": [
       "1"
      ]
     },
     "execution_count": 80,
     "metadata": {},
     "output_type": "execute_result"
    }
   ],
   "source": [
    "sentiment_calculator(\"wasn't a bad movie I should say\")"
   ]
  },
  {
   "cell_type": "code",
   "execution_count": 81,
   "metadata": {},
   "outputs": [
    {
     "data": {
      "text/plain": [
       "1"
      ]
     },
     "execution_count": 81,
     "metadata": {},
     "output_type": "execute_result"
    }
   ],
   "source": [
    "sentiment_calculator(\"was not a bad movie I should say\")"
   ]
  },
  {
   "cell_type": "code",
   "execution_count": 82,
   "metadata": {},
   "outputs": [
    {
     "data": {
      "text/plain": [
       "1"
      ]
     },
     "execution_count": 82,
     "metadata": {},
     "output_type": "execute_result"
    }
   ],
   "source": [
    "sentiment_calculator(\"was not a great movie I should say\")"
   ]
  },
  {
   "cell_type": "code",
   "execution_count": 83,
   "metadata": {},
   "outputs": [],
   "source": [
    "def classify_test_reviews(test_positive_reviews, test_negative_reviews, sentiment_calculator):\n",
    "    \n",
    "    positive_results = [sentiment_calculator(review[0]) for review in test_positive_reviews]\n",
    "    negative_results = [sentiment_calculator(review[0]) for review in test_negative_reviews]\n",
    "    \n",
    "    true_positives = sum(x > 0 for x in positive_results)\n",
    "    true_negatives = sum(x == 0 for x in negative_results)\n",
    "    \n",
    "    percent_true_positive = float(true_positives/len(positive_results))\n",
    "    percent_true_negative = float(true_negatives/len(negative_results))\n",
    "    \n",
    "    total_accurate = true_positives + true_negatives\n",
    "    total = len(positive_results) + len(negative_results)\n",
    "    \n",
    "    print(\"Accuracy on positive reviews = \" + \"%.2f\" % (percent_true_positive * 100) + \"%\")\n",
    "    print(\"Accuracy on negative reviews = \" + \"%.2f\" % (percent_true_negative * 100) + \"%\")\n",
    "    print(\"Overall accuracy = \" + \"%.2f\" % (total_accurate * 100/ total) + \"%\")\n",
    "    "
   ]
  },
  {
   "cell_type": "code",
   "execution_count": 84,
   "metadata": {},
   "outputs": [
    {
     "name": "stdout",
     "output_type": "stream",
     "text": [
      "Accuracy on positive reviews = 100.00%\n",
      "Accuracy on negative reviews = 0.00%\n",
      "Overall accuracy = 31.37%\n"
     ]
    }
   ],
   "source": [
    "classify_test_reviews(test_positive_reviews, test_negative_reviews, sentiment_calculator)"
   ]
  },
  {
   "cell_type": "code",
   "execution_count": null,
   "metadata": {},
   "outputs": [],
   "source": []
  }
 ],
 "metadata": {
  "kernelspec": {
   "display_name": "Python 3",
   "language": "python",
   "name": "python3"
  },
  "language_info": {
   "codemirror_mode": {
    "name": "ipython",
    "version": 3
   },
   "file_extension": ".py",
   "mimetype": "text/x-python",
   "name": "python",
   "nbconvert_exporter": "python",
   "pygments_lexer": "ipython3",
   "version": "3.6.0"
  }
 },
 "nbformat": 4,
 "nbformat_minor": 2
}
